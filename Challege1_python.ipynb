{
 "cells": [
  {
   "cell_type": "code",
   "execution_count": 2,
   "id": "f1671e8d",
   "metadata": {},
   "outputs": [
    {
     "name": "stdout",
     "output_type": "stream",
     "text": [
      "Enter the Number: 10\n",
      "11\n"
     ]
    }
   ],
   "source": [
    "# Challenge 1\n",
    "# Create a function that takes a number as an argument, increments the number by +1 and returns the result.\n",
    "\n",
    "def increment(number):\n",
    "    number += 1\n",
    "    return number\n",
    "\n",
    "\n",
    "number = int(input(\"Enter the Number: \"))\n",
    "print(increment(number))"
   ]
  },
  {
   "cell_type": "code",
   "execution_count": 4,
   "id": "6f1322c1",
   "metadata": {},
   "outputs": [
    {
     "name": "stdout",
     "output_type": "stream",
     "text": [
      "Enter minutes to be converted to seconds: 10\n",
      "10min in seconds is 600s\n"
     ]
    }
   ],
   "source": [
    "# Challenge 2\n",
    "# Write a function that takes an integer minutes and converts it to seconds\n",
    "\n",
    "def minTosec(minutes):\n",
    "    return (minutes*60)\n",
    "\n",
    "minutes=int(input(\"Enter minutes to be converted to seconds: \"))\n",
    "print(\"{0}min in seconds is {1}s\".format(minutes,minTosec(minutes)))"
   ]
  },
  {
   "cell_type": "code",
   "execution_count": 7,
   "id": "62d0b3f7",
   "metadata": {},
   "outputs": [
    {
     "name": "stdout",
     "output_type": "stream",
     "text": [
      "Enter the Base and Height: 10 15\n",
      "Area of Triangle is 75.0\n"
     ]
    }
   ],
   "source": [
    "# Challenge 3\n",
    "# Write a function that takes the base and height of a triangle and return its area.\n",
    "\n",
    "def area(b,h):\n",
    "    return (0.5*b*h)\n",
    "\n",
    "base,height=map(int, input(\"Enter the Base and Height: \").split())\n",
    "print(\"Area of Triangle is {0}\".format(area(base,height)))\n"
   ]
  },
  {
   "cell_type": "code",
   "execution_count": 8,
   "id": "2613e862",
   "metadata": {},
   "outputs": [
    {
     "name": "stdout",
     "output_type": "stream",
     "text": [
      "Enter the 2 sides of triange :5 8\n",
      "Maximum range of triange's third side is : 12\n"
     ]
    }
   ],
   "source": [
    "# Challenge 4\n",
    "# Create a function that finds the maximum range of a triangle's third edge, where the side lengths are all integers.\n",
    "\n",
    "def maxrangeside(s1, s2):\n",
    "    if s1>0 and s2>0:\n",
    "        return (s1+s2-1)\n",
    "    else:\n",
    "        return 0\n",
    "\n",
    "x,y = map(int,input(\"Enter the 2 sides of triange :\").split())\n",
    "print(\"Maximum range of triange's third side is : {0}\".format(maxrangeside(x,y)))"
   ]
  },
  {
   "cell_type": "code",
   "execution_count": 9,
   "id": "ffd674b3",
   "metadata": {},
   "outputs": [
    {
     "name": "stdout",
     "output_type": "stream",
     "text": [
      "Enter two numbers: 3 4\n",
      "Remainder of 3/4 is : 3\n"
     ]
    }
   ],
   "source": [
    "# Challenge 5\n",
    "'''There is a single operator in Python, capable of providing the remainder of a division operation. \n",
    "Two numbers are passed as parameters. The first parameter divided by the second parameter will have a remainder, \n",
    "possibly zero. Return that value. '''\n",
    "\n",
    "def remainder(n1,n2):\n",
    "    if n2!=0:\n",
    "        return (n1%n2)\n",
    "    else:\n",
    "        return 0\n",
    "\n",
    "x,y=map(int, input(\"Enter two numbers: \").split())\n",
    "print(\"Remainder of {0}/{1} is : {2}\".format(x,y,remainder(x,y)))"
   ]
  },
  {
   "cell_type": "code",
   "execution_count": 10,
   "id": "5e2f5275",
   "metadata": {},
   "outputs": [
    {
     "name": "stdout",
     "output_type": "stream",
     "text": [
      "Enter your age: 22\n",
      "Yout age in days = 8030\n"
     ]
    }
   ],
   "source": [
    "# Challenge 5\n",
    "# Create a function that takes the age in years and returns the age in days\n",
    "\n",
    "def ageindays(age):\n",
    "    if age>0:\n",
    "        return (365*age)\n",
    "    else:\n",
    "        return 0\n",
    "\n",
    "age=int(input(\"Enter your age: \"))\n",
    "print(\"Yout age in days = {0}\".format(ageindays(age)))"
   ]
  },
  {
   "cell_type": "code",
   "execution_count": 13,
   "id": "749e6384",
   "metadata": {},
   "outputs": [
    {
     "name": "stdout",
     "output_type": "stream",
     "text": [
      "Enter voltage and current for power: 100 4\n",
      "Power is : 400W\n"
     ]
    }
   ],
   "source": [
    "# Challenge 6\n",
    "# Create a function that takes voltage and current and returns the calculated power.\n",
    "\n",
    "def power(curr,volt):\n",
    "    return (curr*volt)\n",
    "\n",
    "current,voltage=map(int, input(\"Enter voltage and current for power: \").split())\n",
    "print(\"Power is : {0}W\".format(power(volt=voltage,curr=current)))"
   ]
  },
  {
   "cell_type": "code",
   "execution_count": 16,
   "id": "51c56123",
   "metadata": {},
   "outputs": [
    {
     "name": "stdout",
     "output_type": "stream",
     "text": [
      "Enter a Number: 12\n",
      "Squared(12) -> 144\n"
     ]
    }
   ],
   "source": [
    "# Challenge 7\n",
    "'''Fix the code in the code tab to pass this challenge (only syntax errors). \n",
    "Look at the examples below to get an idea of what the function should do.'''\n",
    "\n",
    "def sqaure(num):\n",
    "    return (num*num)\n",
    "\n",
    "num=int(input(\"Enter a Number: \"))\n",
    "print(\"Squared({0}) -> {1}\".format(num,sqaure(num)))"
   ]
  },
  {
   "cell_type": "code",
   "execution_count": 19,
   "id": "15e58482",
   "metadata": {},
   "outputs": [
    {
     "name": "stdout",
     "output_type": "stream",
     "text": [
      "Enter wins, draws and losses of the team: 3 2 5\n",
      "Point for team: 11\n"
     ]
    }
   ],
   "source": [
    "# Challenge 8\n",
    "# Create a function that takes the number of wins, draws and losses and \n",
    "# calculates the number of points a football team has obtained so far\n",
    "# • wins get 3 points\n",
    "# • draws get 1 point\n",
    "# • losses get 0 points\n",
    "\n",
    "def football_points(win,draw,loss):\n",
    "    if win>=0 and draw>=0 and loss>=0:\n",
    "        points=(win*3)+(draw*1)+(loss*0)\n",
    "        return points\n",
    "    else:\n",
    "        return -1\n",
    "\n",
    "win,draw,loss=map(int, input(\"Enter wins, draws and losses of the team: \").split())\n",
    "print(\"Point for team: {0}\".format(football_points(win,draw,loss)))"
   ]
  },
  {
   "cell_type": "code",
   "execution_count": 24,
   "id": "31df9a11",
   "metadata": {},
   "outputs": [
    {
     "name": "stdout",
     "output_type": "stream",
     "text": [
      "Enter the number of chickens, cows and pigs: 2 6 4\n",
      "Total Legs: 44\n"
     ]
    }
   ],
   "source": [
    "# Challenge 9\n",
    "'''In this challenge, a farmer is asking you to tell him how many legs can be \n",
    "counted among all his animals. The farmer breeds three species:\n",
    "    •\tchickens = 2 legs\n",
    "    •\tcows = 4 legs\n",
    "    •\tpigs = 4 legs\n",
    "The farmer has counted his animals and he gives you a subtotal for each species.\n",
    "You have to implement a function that returns the total number\n",
    "of legs of all the animals.'''\n",
    "\n",
    "legs_chicken=2\n",
    "legs_cow=4\n",
    "legs_pig=4\n",
    "\n",
    "def animals(chickens,cows,pigs):\n",
    "    total_legs= (chickens*legs_chicken) + (cows*legs_cow) + (pigs*legs_pig)\n",
    "    return total_legs\n",
    "\n",
    "x,y,z=map(int, input(\"Enter the number of chickens, cows and pigs: \").split())\n",
    "print(\"Total Legs: {0}\".format(animals(x,y,z)))"
   ]
  },
  {
   "cell_type": "code",
   "execution_count": 31,
   "id": "131402de",
   "metadata": {},
   "outputs": [
    {
     "name": "stdout",
     "output_type": "stream",
     "text": [
      "Number of insults: 4\n"
     ]
    }
   ],
   "source": [
    "# Challenge 10\n",
    "# You call your spouse in anger and a \"little\" argument takes place.\n",
    "# Count the total amount of insults used. Given a dictionary of insults,\n",
    "# return the total amount of insults used.\n",
    "\n",
    "x = {'a': \"moron\", 'b': \"scumbag\", 'c': \"moron\", 'd': \"dirtbag\"}\n",
    "insult=len(x.keys())\n",
    "print(\"Number of insults: {0}\".format(insult))"
   ]
  },
  {
   "cell_type": "code",
   "execution_count": 3,
   "id": "2035d45a",
   "metadata": {},
   "outputs": [
    {
     "name": "stdout",
     "output_type": "stream",
     "text": [
      "Enter the number of 2-pointer and 3-pointers scored : 7 5\n",
      "Final Points = 29\n"
     ]
    }
   ],
   "source": [
    "# Challenge 11\n",
    "# You are counting points for a basketball game, given the amount of 3-pointers scored and 2-pointers scored, \n",
    "#find the final points for the team and return that value ([2 -pointers scored, 3-pointers scored]).\n",
    "\n",
    "def score(p2,p3):\n",
    "    if (p2 and p3)>=0:\n",
    "        total = p2*2+p3*3\n",
    "        return total\n",
    "    else:\n",
    "        return -1\n",
    "\n",
    "p2,p3 = map(int,input(\"Enter the number of 2-pointer and 3-pointers scored : \").split())\n",
    "print(\"Final Points = {0}\".format(score(p2,p3)))"
   ]
  },
  {
   "cell_type": "code",
   "execution_count": 4,
   "id": "a3b66860",
   "metadata": {},
   "outputs": [
    {
     "name": "stdout",
     "output_type": "stream",
     "text": [
      "Enter elements of the list with spaces: 10 4 1 4 -10 -50 32 21\n",
      "Difference between max and min number in the list is : 82\n"
     ]
    }
   ],
   "source": [
    "# Challenge 12\n",
    "# Create a function that takes a list and returns the difference between the biggest and smallest numbers.\n",
    "\n",
    "def difference_max_min(lst):\n",
    "    maxnum=max(lst)\n",
    "    minnum=min(lst)\n",
    "    diff= maxnum-minnum\n",
    "    return diff\n",
    "\n",
    "lst= list(map(int,input(\"Enter elements of the list with spaces: \").split()))\n",
    "print(\"Difference between max and min number in the list is : {0}\".format(difference_max_min(lst)))"
   ]
  },
  {
   "cell_type": "code",
   "execution_count": 5,
   "id": "8f8f4cc1",
   "metadata": {},
   "outputs": [
    {
     "name": "stdout",
     "output_type": "stream",
     "text": [
      "Enter elements of the list 1 with spaces: 1 3 5\n",
      "Enter elements of the list 2 with spaces: 2 5 8\n",
      "concatenated list is : [1, 3, 5, 2, 5, 8]\n"
     ]
    }
   ],
   "source": [
    "# Challenge 13\n",
    "# Create a function to concatenate two integer lists.\n",
    "\n",
    "def concat(lst1, lst2):\n",
    "    finallst = lst1+lst2\n",
    "    return finallst\n",
    "\n",
    "lst1= list(map(int, input(\"Enter elements of the list 1 with spaces: \").split()))\n",
    "lst2= list(map(int, input(\"Enter elements of the list 2 with spaces: \").split()))\n",
    "print(\"concatenated list is : {0}\".format(concat(lst1,lst2)))"
   ]
  }
 ],
 "metadata": {
  "kernelspec": {
   "display_name": "Python 3 (ipykernel)",
   "language": "python",
   "name": "python3"
  },
  "language_info": {
   "codemirror_mode": {
    "name": "ipython",
    "version": 3
   },
   "file_extension": ".py",
   "mimetype": "text/x-python",
   "name": "python",
   "nbconvert_exporter": "python",
   "pygments_lexer": "ipython3",
   "version": "3.10.5"
  }
 },
 "nbformat": 4,
 "nbformat_minor": 5
}
